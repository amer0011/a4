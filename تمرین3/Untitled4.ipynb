{
 "cells": [
  {
   "cell_type": "code",
   "execution_count": 10,
   "id": "1a2625e3",
   "metadata": {},
   "outputs": [],
   "source": [
    "def recws (n,s):          #معرفی کردن تابع نام تابع و ارگومان \n",
    "    if (n>0):             #اگر و معرفی شرط\n",
    "        print(\"پایتون\")      #چاپکردن \n",
    "    else:                  # درغیر این صورت \n",
    "        print(n)           #چاپگردن \n",
    "        print(s)           #چاپکردن\n",
    "        return(n-1,s)      # فراخوانی وکم کردن از ارگومان معرفی شده \n",
    "        "
   ]
  },
  {
   "cell_type": "code",
   "execution_count": 11,
   "id": "90f9a833",
   "metadata": {},
   "outputs": [
    {
     "name": "stdout",
     "output_type": "stream",
     "text": [
      "پایتون\n"
     ]
    }
   ],
   "source": [
    "recws (10,50)"
   ]
  },
  {
   "cell_type": "code",
   "execution_count": null,
   "id": "d6d37aef",
   "metadata": {},
   "outputs": [],
   "source": []
  }
 ],
 "metadata": {
  "kernelspec": {
   "display_name": "Python 3 (ipykernel)",
   "language": "python",
   "name": "python3"
  },
  "language_info": {
   "codemirror_mode": {
    "name": "ipython",
    "version": 3
   },
   "file_extension": ".py",
   "mimetype": "text/x-python",
   "name": "python",
   "nbconvert_exporter": "python",
   "pygments_lexer": "ipython3",
   "version": "3.7.6"
  }
 },
 "nbformat": 4,
 "nbformat_minor": 5
}
