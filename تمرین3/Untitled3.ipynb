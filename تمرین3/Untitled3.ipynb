{
 "cells": [
  {
   "cell_type": "code",
   "execution_count": 42,
   "id": "8658c4b8",
   "metadata": {},
   "outputs": [],
   "source": [
    "def swe (a,c):\n",
    "    if a>c:    \n",
    "        print(\"بزرگترa\")\n",
    "    elif a<c:\n",
    "        print(\"بزرگترc\")\n",
    "        \n",
    "    else:       \n",
    "        print(\"مساوی\")"
   ]
  },
  {
   "cell_type": "code",
   "execution_count": 43,
   "id": "bd742330",
   "metadata": {},
   "outputs": [
    {
     "name": "stdout",
     "output_type": "stream",
     "text": [
      "بزرگترc\n"
     ]
    }
   ],
   "source": [
    "swe (50,100)"
   ]
  },
  {
   "cell_type": "code",
   "execution_count": null,
   "id": "fa7dae3a",
   "metadata": {},
   "outputs": [],
   "source": []
  }
 ],
 "metadata": {
  "kernelspec": {
   "display_name": "Python 3 (ipykernel)",
   "language": "python",
   "name": "python3"
  },
  "language_info": {
   "codemirror_mode": {
    "name": "ipython",
    "version": 3
   },
   "file_extension": ".py",
   "mimetype": "text/x-python",
   "name": "python",
   "nbconvert_exporter": "python",
   "pygments_lexer": "ipython3",
   "version": "3.7.6"
  }
 },
 "nbformat": 4,
 "nbformat_minor": 5
}
